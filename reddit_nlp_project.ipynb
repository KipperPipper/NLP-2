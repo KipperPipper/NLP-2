{
  "nbformat": 4,
  "nbformat_minor": 0,
  "metadata": {
    "colab": {
      "name": "reddit nlp project",
      "provenance": []
    },
    "kernelspec": {
      "name": "python3",
      "display_name": "Python 3"
    },
    "accelerator": "GPU"
  },
  "cells": [
    {
      "cell_type": "code",
      "metadata": {
        "id": "_MHZOE1KD4Ix",
        "colab_type": "code",
        "colab": {}
      },
      "source": [
        "SETUP = True"
      ],
      "execution_count": 0,
      "outputs": []
    },
    {
      "cell_type": "code",
      "metadata": {
        "id": "T8wEJkONzQCo",
        "colab_type": "code",
        "colab": {}
      },
      "source": [
        "if SETUP:\n",
        "    !pip install praw\n",
        "    #!pip install --upgrade tensorflow\n",
        "    !pip install dovpanda\n",
        "    !pip install -q -U toai\n",
        "    !pip install -q -U git+https://github.com/huggingface/transformers\n",
        "    !pip install -q -U tensorflow-datasets\n",
        "    !pip install -q -U --no-deps tensorflow-addons\n",
        "    !pip install -q -U tensorflow_hub\n",
        "    !pip install dovpanda\n",
        "    print(__import__(\"toai\").__version__)\n",
        "    print(__import__(\"tensorflow\").__version__)"
      ],
      "execution_count": 0,
      "outputs": []
    },
    {
      "cell_type": "code",
      "metadata": {
        "id": "-Ezo_VtwZ8jb",
        "colab_type": "code",
        "colab": {}
      },
      "source": [
        "!pip install tensorflow==2.0.0-rc0 "
      ],
      "execution_count": 0,
      "outputs": []
    },
    {
      "cell_type": "code",
      "metadata": {
        "id": "YlAqTUObYTjZ",
        "colab_type": "code",
        "colab": {}
      },
      "source": [
        "from toai.imports import *\n",
        "from toai.data import DataBundle, DataParams, DataContainer\n",
        "from toai.metrics import sparse_top_2_categorical_accuracy\n",
        "from toai.utils import save_file, load_file\n",
        "from toai.models import save_keras_model, load_keras_model\n",
        "import tensorflow as tf\n",
        "from tensorflow import keras\n",
        "#import tensorflow_addons as tfa\n",
        "import tensorflow_datasets as tfds\n",
        "import tensorflow_hub as hub\n",
        "import transformers\n",
        "import praw \n",
        "import dovpanda"
      ],
      "execution_count": 0,
      "outputs": []
    },
    {
      "cell_type": "code",
      "metadata": {
        "id": "Rpx3dtjNWbYl",
        "colab_type": "code",
        "colab": {}
      },
      "source": [
        "from IPython.core.interactiveshell import InteractiveShell\n",
        "InteractiveShell.ast_node_interactivity = \"all\""
      ],
      "execution_count": 0,
      "outputs": []
    },
    {
      "cell_type": "code",
      "metadata": {
        "id": "HtHBO6ja6PJL",
        "colab_type": "code",
        "colab": {}
      },
      "source": [
        "TEMP_DIR = Path(\"temp/things\")\n",
        "TEMP_DIR.mkdir(parents=True, exist_ok=True)\n"
      ],
      "execution_count": 0,
      "outputs": []
    },
    {
      "cell_type": "code",
      "metadata": {
        "id": "s9RH1GbYokYe",
        "colab_type": "code",
        "colab": {}
      },
      "source": [
        "BATCH_SIZE = 16\n",
        "AUTOTUNE = tf.data.experimental.AUTOTUNE"
      ],
      "execution_count": 0,
      "outputs": []
    },
    {
      "cell_type": "code",
      "metadata": {
        "id": "TIt1Z1-3g2er",
        "colab_type": "code",
        "colab": {}
      },
      "source": [
        "reddit = praw.Reddit(client_id='f0ihIXUEcYMlMA',\n",
        "                     client_secret='KHetrCqCIoNghIRC3z3flRitKbE',\n",
        "                     user_agent='test for reddit subreddit title scrapping for NLP clsf prob')"
      ],
      "execution_count": 0,
      "outputs": []
    },
    {
      "cell_type": "code",
      "metadata": {
        "id": "ynWCXr44hV9C",
        "colab_type": "code",
        "colab": {}
      },
      "source": [
        "hot_posts = reddit.subreddit('MachineLearning').hot(limit=5)"
      ],
      "execution_count": 0,
      "outputs": []
    },
    {
      "cell_type": "code",
      "metadata": {
        "id": "yt8eVQWIA_6A",
        "colab_type": "code",
        "colab": {}
      },
      "source": [
        "top_posts = reddit.subreddit('MachineLearning').top(limit=3)"
      ],
      "execution_count": 0,
      "outputs": []
    },
    {
      "cell_type": "code",
      "metadata": {
        "id": "9LrDh3LnMVLp",
        "colab_type": "code",
        "colab": {}
      },
      "source": [
        "hot_posts_dl = reddit.subreddit('deeplearning').hot(limit=10)"
      ],
      "execution_count": 0,
      "outputs": []
    },
    {
      "cell_type": "code",
      "metadata": {
        "id": "-yywkgN4hcHa",
        "colab_type": "code",
        "outputId": "c239565d-c2bc-44b7-fba8-95e6c1e4e7b3",
        "colab": {
          "base_uri": "https://localhost:8080/",
          "height": 35
        }
      },
      "source": [
        "print(hot_posts)"
      ],
      "execution_count": 27,
      "outputs": [
        {
          "output_type": "stream",
          "text": [
            "<praw.models.listing.generator.ListingGenerator object at 0x7fb86abc7668>\n"
          ],
          "name": "stdout"
        }
      ]
    },
    {
      "cell_type": "code",
      "metadata": {
        "id": "Kd6eNNl6heMz",
        "colab_type": "code",
        "outputId": "27939824-0ed5-48b5-bb24-ff45dcbcdf2e",
        "colab": {
          "base_uri": "https://localhost:8080/",
          "height": 199
        }
      },
      "source": [
        "for post in hot_posts_dl:\n",
        "    print(post.title)"
      ],
      "execution_count": 28,
      "outputs": [
        {
          "output_type": "stream",
          "text": [
            "SparkTorch: Distributed training of PyTorch networks on Apache Spark with ML Pipeline support\n",
            "Mid-Build on a 4 GPU Deep Learning Machine (GPUs not in the machine until I finalize radiator placement)\n",
            "The untold history of deep learning (starting with Hayek)\n",
            "Deep learning in public policy-making?\n",
            "Buffalo University Comprehensive Lecture Slides for Machine Learning and Deep Learning\n",
            "Course: Deep Learning in Computer Vision\n",
            "What's Hidden in a Randomly Weighted Neural Network?\n",
            "Hierarchical Multilabel Image classification\n",
            "Machine Learning auto labeling\n",
            "How would you implement Ensemble Regression?\n"
          ],
          "name": "stdout"
        }
      ]
    },
    {
      "cell_type": "code",
      "metadata": {
        "id": "1Z-D6USshjPV",
        "colab_type": "code",
        "colab": {
          "base_uri": "https://localhost:8080/",
          "height": 72
        },
        "outputId": "bacd6bc4-4717-4bc4-d5a5-1791aa99f033"
      },
      "source": [
        "for post in top_posts:\n",
        "    print(post.title)"
      ],
      "execution_count": 29,
      "outputs": [
        {
          "output_type": "stream",
          "text": [
            "[D] Siraj has a new paper: 'The Neural Qubit'. It's plagiarised\n",
            "[R] Neural Color Transfer between Images\n",
            "[P] Realtime multihand pose estimation demo\n"
          ],
          "name": "stdout"
        }
      ]
    },
    {
      "cell_type": "code",
      "metadata": {
        "id": "4wWKzcfTIpi_",
        "colab_type": "code",
        "colab": {}
      },
      "source": [
        "import itertools"
      ],
      "execution_count": 0,
      "outputs": []
    },
    {
      "cell_type": "code",
      "metadata": {
        "id": "HJTgNcyCBRlG",
        "colab_type": "code",
        "colab": {}
      },
      "source": [
        "posts = []\n",
        "ml_subreddit = reddit.subreddit('MachineLearning')\n",
        "dl_subreddit = reddit.subreddit('deeplearning')\n",
        "for post1,post in zip(ml_subreddit.top(limit=50),dl_subreddit.top(limit=50)):\n",
        "    posts.append([post1.title, post1.score, post1.id, post1.subreddit, post1.url, post1.num_comments, post1.selftext, post1.created])\n",
        "    posts.append([post.title, post.score, post.id, post.subreddit, post.url, post.num_comments, post.selftext, post.created])\n",
        "posts = pd.DataFrame(posts,columns=['title', 'score', 'id', 'subreddit', 'url', 'num_comments', 'body', 'created'])"
      ],
      "execution_count": 0,
      "outputs": []
    },
    {
      "cell_type": "code",
      "metadata": {
        "id": "1y3psdDfBwHZ",
        "colab_type": "code",
        "colab": {
          "base_uri": "https://localhost:8080/",
          "height": 667
        },
        "outputId": "e7e5e72b-a93d-4c88-b72e-30ea6bcd9010"
      },
      "source": [
        "posts"
      ],
      "execution_count": 13,
      "outputs": [
        {
          "output_type": "execute_result",
          "data": {
            "text/html": [
              "<div>\n",
              "<style scoped>\n",
              "    .dataframe tbody tr th:only-of-type {\n",
              "        vertical-align: middle;\n",
              "    }\n",
              "\n",
              "    .dataframe tbody tr th {\n",
              "        vertical-align: top;\n",
              "    }\n",
              "\n",
              "    .dataframe thead th {\n",
              "        text-align: right;\n",
              "    }\n",
              "</style>\n",
              "<table border=\"1\" class=\"dataframe\">\n",
              "  <thead>\n",
              "    <tr style=\"text-align: right;\">\n",
              "      <th></th>\n",
              "      <th>title</th>\n",
              "      <th>score</th>\n",
              "      <th>id</th>\n",
              "      <th>subreddit</th>\n",
              "      <th>url</th>\n",
              "      <th>num_comments</th>\n",
              "      <th>body</th>\n",
              "      <th>created</th>\n",
              "    </tr>\n",
              "  </thead>\n",
              "  <tbody>\n",
              "    <tr>\n",
              "      <th>0</th>\n",
              "      <td>[D] Siraj has a new paper: 'The Neural Qubit'....</td>\n",
              "      <td>2355</td>\n",
              "      <td>dh2xfs</td>\n",
              "      <td>MachineLearning</td>\n",
              "      <td>https://www.reddit.com/r/MachineLearning/comme...</td>\n",
              "      <td>492</td>\n",
              "      <td>Exposed in this Twitter thread: https://twitte...</td>\n",
              "      <td>1.570953e+09</td>\n",
              "    </tr>\n",
              "    <tr>\n",
              "      <th>1</th>\n",
              "      <td>Deepfakes video from #TheOffice. Creeped out max.</td>\n",
              "      <td>180</td>\n",
              "      <td>dc7e1s</td>\n",
              "      <td>deeplearning</td>\n",
              "      <td>https://v.redd.it/cwzedv4m93q31</td>\n",
              "      <td>12</td>\n",
              "      <td></td>\n",
              "      <td>1.570034e+09</td>\n",
              "    </tr>\n",
              "    <tr>\n",
              "      <th>2</th>\n",
              "      <td>[R] Neural Color Transfer between Images</td>\n",
              "      <td>2325</td>\n",
              "      <td>748cco</td>\n",
              "      <td>MachineLearning</td>\n",
              "      <td>https://i.redd.it/1qync11pltpz.jpg</td>\n",
              "      <td>90</td>\n",
              "      <td></td>\n",
              "      <td>1.507155e+09</td>\n",
              "    </tr>\n",
              "    <tr>\n",
              "      <th>3</th>\n",
              "      <td>Samsung AI lab develops tech that can animate ...</td>\n",
              "      <td>166</td>\n",
              "      <td>bs8hxd</td>\n",
              "      <td>deeplearning</td>\n",
              "      <td>https://v.redd.it/1xno8etz21031</td>\n",
              "      <td>14</td>\n",
              "      <td></td>\n",
              "      <td>1.558675e+09</td>\n",
              "    </tr>\n",
              "    <tr>\n",
              "      <th>4</th>\n",
              "      <td>[P] Realtime multihand pose estimation demo</td>\n",
              "      <td>1688</td>\n",
              "      <td>8n04hp</td>\n",
              "      <td>MachineLearning</td>\n",
              "      <td>https://media.giphy.com/media/RIX4ApOoVr5LmikK...</td>\n",
              "      <td>140</td>\n",
              "      <td></td>\n",
              "      <td>1.527638e+09</td>\n",
              "    </tr>\n",
              "    <tr>\n",
              "      <th>...</th>\n",
              "      <td>...</td>\n",
              "      <td>...</td>\n",
              "      <td>...</td>\n",
              "      <td>...</td>\n",
              "      <td>...</td>\n",
              "      <td>...</td>\n",
              "      <td>...</td>\n",
              "      <td>...</td>\n",
              "    </tr>\n",
              "    <tr>\n",
              "      <th>95</th>\n",
              "      <td>Current feel a few months into my research</td>\n",
              "      <td>60</td>\n",
              "      <td>a6xvne</td>\n",
              "      <td>deeplearning</td>\n",
              "      <td>https://i.redd.it/vo63jcs0ps421.png</td>\n",
              "      <td>1</td>\n",
              "      <td></td>\n",
              "      <td>1.545063e+09</td>\n",
              "    </tr>\n",
              "    <tr>\n",
              "      <th>96</th>\n",
              "      <td>[R][UC Berkeley] Everybody Dance Now</td>\n",
              "      <td>736</td>\n",
              "      <td>99qkrk</td>\n",
              "      <td>MachineLearning</td>\n",
              "      <td>https://www.youtube.com/watch?v=PCBTZh41Ris&amp;fe...</td>\n",
              "      <td>75</td>\n",
              "      <td></td>\n",
              "      <td>1.535083e+09</td>\n",
              "    </tr>\n",
              "    <tr>\n",
              "      <th>97</th>\n",
              "      <td>Neural networks taught to \"read minds\" in real...</td>\n",
              "      <td>58</td>\n",
              "      <td>dk6wyb</td>\n",
              "      <td>deeplearning</td>\n",
              "      <td>https://youtu.be/mJct6RUETh0</td>\n",
              "      <td>12</td>\n",
              "      <td></td>\n",
              "      <td>1.571535e+09</td>\n",
              "    </tr>\n",
              "    <tr>\n",
              "      <th>98</th>\n",
              "      <td>[News] New NVIDIA EULA prohibits Deep Learning...</td>\n",
              "      <td>731</td>\n",
              "      <td>7ly5gi</td>\n",
              "      <td>MachineLearning</td>\n",
              "      <td>https://www.reddit.com/r/MachineLearning/comme...</td>\n",
              "      <td>246</td>\n",
              "      <td>According to German tech magazine golem.de, th...</td>\n",
              "      <td>1.514186e+09</td>\n",
              "    </tr>\n",
              "    <tr>\n",
              "      <th>99</th>\n",
              "      <td>Mask R-CNN Instance Segmentation with PyTorch</td>\n",
              "      <td>64</td>\n",
              "      <td>c5cnpv</td>\n",
              "      <td>deeplearning</td>\n",
              "      <td>https://i.redd.it/aq5xjd6umj631.png</td>\n",
              "      <td>2</td>\n",
              "      <td></td>\n",
              "      <td>1.561515e+09</td>\n",
              "    </tr>\n",
              "  </tbody>\n",
              "</table>\n",
              "<p>100 rows × 8 columns</p>\n",
              "</div>"
            ],
            "text/plain": [
              "                                                title  ...       created\n",
              "0   [D] Siraj has a new paper: 'The Neural Qubit'....  ...  1.570953e+09\n",
              "1   Deepfakes video from #TheOffice. Creeped out max.  ...  1.570034e+09\n",
              "2            [R] Neural Color Transfer between Images  ...  1.507155e+09\n",
              "3   Samsung AI lab develops tech that can animate ...  ...  1.558675e+09\n",
              "4         [P] Realtime multihand pose estimation demo  ...  1.527638e+09\n",
              "..                                                ...  ...           ...\n",
              "95         Current feel a few months into my research  ...  1.545063e+09\n",
              "96               [R][UC Berkeley] Everybody Dance Now  ...  1.535083e+09\n",
              "97  Neural networks taught to \"read minds\" in real...  ...  1.571535e+09\n",
              "98  [News] New NVIDIA EULA prohibits Deep Learning...  ...  1.514186e+09\n",
              "99      Mask R-CNN Instance Segmentation with PyTorch  ...  1.561515e+09\n",
              "\n",
              "[100 rows x 8 columns]"
            ]
          },
          "metadata": {
            "tags": []
          },
          "execution_count": 13
        }
      ]
    },
    {
      "cell_type": "code",
      "metadata": {
        "id": "pHQCPfgQB4Y1",
        "colab_type": "code",
        "colab": {}
      },
      "source": [
        " posts.to_csv('top_subreddit_posts.csv')"
      ],
      "execution_count": 0,
      "outputs": []
    },
    {
      "cell_type": "code",
      "metadata": {
        "id": "ixtdWmQPCIMa",
        "colab_type": "code",
        "colab": {
          "base_uri": "https://localhost:8080/",
          "height": 103
        },
        "outputId": "9b5a3841-35c7-4139-9b3c-62aaf36582ad"
      },
      "source": [
        "df = pd.read_csv('top_subreddit_posts.csv')"
      ],
      "execution_count": 33,
      "outputs": [
        {
          "output_type": "display_data",
          "data": {
            "text/html": [
              "\n",
              "<div class=\"alert alert-info\" role=\"alert\">\n",
              "  <img src=\"data:image/png;base64,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\" alt=\"logo\" style=\"float:left; margin-right:10px\">\n",
              "  Your left most column is unnamed. This suggets it might be the index column, try: <code>pd.read_csv('top_subreddit_posts.csv', index_col=0)</code>\n",
              "  <button type=\"button\" class=\"close\" data-dismiss=\"alert\" aria-label=\"Close\">\n",
              "    <span aria-hidden=\"true\">&times;</span>\n",
              "  </button>\n",
              "  <div style=\"font-size:0.7em;\">\n",
              "    Line 1: <code>df = pd.read_csv('top_subreddit_posts.csv')</code>\n",
              "  </div>\n",
              "\n",
              "</div>\n"
            ],
            "text/plain": [
              "* =====(Line 1) Your left most column is unnamed. This suggets it might be the index column, try: pd.read_csv('top_subreddit_posts.csv', index_col=0) ====="
            ]
          },
          "metadata": {
            "tags": []
          }
        },
        {
          "output_type": "display_data",
          "data": {
            "text/html": [
              "\n",
              "<div class=\"alert alert-info\" role=\"alert\">\n",
              "  <img src=\"data:image/png;base64,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\" alt=\"logo\" style=\"float:left; margin-right:10px\">\n",
              "  Dataframe has 100 rows. Column <code>subreddit</code> has only 2 values which suggests it's a boolean feature.<br>After df is created, Consider converting it to boolean by using <code>df['subreddit'] = (df['subreddit'] == 'MachineLearning')</code>\n",
              "  <button type=\"button\" class=\"close\" data-dismiss=\"alert\" aria-label=\"Close\">\n",
              "    <span aria-hidden=\"true\">&times;</span>\n",
              "  </button>\n",
              "  <div style=\"font-size:0.7em;\">\n",
              "    Line 1: <code>df = pd.read_csv('top_subreddit_posts.csv')</code>\n",
              "  </div>\n",
              "\n",
              "</div>\n"
            ],
            "text/plain": [
              "* =====(Line 1) Dataframe has 100 rows. Column subreddit has only 2 values which suggests it's a boolean feature.\n",
              "After df is created, Consider converting it to boolean by using df['subreddit'] = (df['subreddit'] == 'MachineLearning') ====="
            ]
          },
          "metadata": {
            "tags": []
          }
        }
      ]
    },
    {
      "cell_type": "code",
      "metadata": {
        "id": "IgGtKcW1ve61",
        "colab_type": "code",
        "colab": {
          "base_uri": "https://localhost:8080/",
          "height": 126
        },
        "outputId": "25864e91-2556-46f3-8f5d-bdf665bbf6bd"
      },
      "source": [
        "df['subreddit'].head()"
      ],
      "execution_count": 34,
      "outputs": [
        {
          "output_type": "execute_result",
          "data": {
            "text/plain": [
              "0    MachineLearning\n",
              "1       deeplearning\n",
              "2    MachineLearning\n",
              "3       deeplearning\n",
              "4    MachineLearning\n",
              "Name: subreddit, dtype: object"
            ]
          },
          "metadata": {
            "tags": []
          },
          "execution_count": 34
        }
      ]
    },
    {
      "cell_type": "code",
      "metadata": {
        "id": "J960qEeRCVKj",
        "colab_type": "code",
        "colab": {
          "base_uri": "https://localhost:8080/",
          "height": 693
        },
        "outputId": "7aea5e35-c07f-4a80-8b4b-a323b1e7065d"
      },
      "source": [
        "df.head(10)"
      ],
      "execution_count": 35,
      "outputs": [
        {
          "output_type": "execute_result",
          "data": {
            "text/html": [
              "<div>\n",
              "<style scoped>\n",
              "    .dataframe tbody tr th:only-of-type {\n",
              "        vertical-align: middle;\n",
              "    }\n",
              "\n",
              "    .dataframe tbody tr th {\n",
              "        vertical-align: top;\n",
              "    }\n",
              "\n",
              "    .dataframe thead th {\n",
              "        text-align: right;\n",
              "    }\n",
              "</style>\n",
              "<table border=\"1\" class=\"dataframe\">\n",
              "  <thead>\n",
              "    <tr style=\"text-align: right;\">\n",
              "      <th></th>\n",
              "      <th>Unnamed: 0</th>\n",
              "      <th>title</th>\n",
              "      <th>score</th>\n",
              "      <th>id</th>\n",
              "      <th>subreddit</th>\n",
              "      <th>url</th>\n",
              "      <th>num_comments</th>\n",
              "      <th>body</th>\n",
              "      <th>created</th>\n",
              "    </tr>\n",
              "  </thead>\n",
              "  <tbody>\n",
              "    <tr>\n",
              "      <th>0</th>\n",
              "      <td>0</td>\n",
              "      <td>[D] Siraj has a new paper: 'The Neural Qubit'....</td>\n",
              "      <td>2356</td>\n",
              "      <td>dh2xfs</td>\n",
              "      <td>MachineLearning</td>\n",
              "      <td>https://www.reddit.com/r/MachineLearning/comme...</td>\n",
              "      <td>492</td>\n",
              "      <td>Exposed in this Twitter thread: https://twitte...</td>\n",
              "      <td>1.570953e+09</td>\n",
              "    </tr>\n",
              "    <tr>\n",
              "      <th>1</th>\n",
              "      <td>1</td>\n",
              "      <td>Deepfakes video from #TheOffice. Creeped out max.</td>\n",
              "      <td>183</td>\n",
              "      <td>dc7e1s</td>\n",
              "      <td>deeplearning</td>\n",
              "      <td>https://v.redd.it/cwzedv4m93q31</td>\n",
              "      <td>12</td>\n",
              "      <td>NaN</td>\n",
              "      <td>1.570034e+09</td>\n",
              "    </tr>\n",
              "    <tr>\n",
              "      <th>2</th>\n",
              "      <td>2</td>\n",
              "      <td>[R] Neural Color Transfer between Images</td>\n",
              "      <td>2319</td>\n",
              "      <td>748cco</td>\n",
              "      <td>MachineLearning</td>\n",
              "      <td>https://i.redd.it/1qync11pltpz.jpg</td>\n",
              "      <td>90</td>\n",
              "      <td>NaN</td>\n",
              "      <td>1.507155e+09</td>\n",
              "    </tr>\n",
              "    <tr>\n",
              "      <th>3</th>\n",
              "      <td>3</td>\n",
              "      <td>Samsung AI lab develops tech that can animate ...</td>\n",
              "      <td>168</td>\n",
              "      <td>bs8hxd</td>\n",
              "      <td>deeplearning</td>\n",
              "      <td>https://v.redd.it/1xno8etz21031</td>\n",
              "      <td>14</td>\n",
              "      <td>NaN</td>\n",
              "      <td>1.558675e+09</td>\n",
              "    </tr>\n",
              "    <tr>\n",
              "      <th>4</th>\n",
              "      <td>4</td>\n",
              "      <td>[P] Realtime multihand pose estimation demo</td>\n",
              "      <td>1686</td>\n",
              "      <td>8n04hp</td>\n",
              "      <td>MachineLearning</td>\n",
              "      <td>https://media.giphy.com/media/RIX4ApOoVr5LmikK...</td>\n",
              "      <td>140</td>\n",
              "      <td>NaN</td>\n",
              "      <td>1.527638e+09</td>\n",
              "    </tr>\n",
              "    <tr>\n",
              "      <th>5</th>\n",
              "      <td>5</td>\n",
              "      <td>Coursera Staff:If you want Andrew Ng to come o...</td>\n",
              "      <td>161</td>\n",
              "      <td>dn9wny</td>\n",
              "      <td>deeplearning</td>\n",
              "      <td>https://www.reddit.com/r/deeplearning/comments...</td>\n",
              "      <td>11</td>\n",
              "      <td>Please vote here in this post if: **you want A...</td>\n",
              "      <td>1.572098e+09</td>\n",
              "    </tr>\n",
              "    <tr>\n",
              "      <th>6</th>\n",
              "      <td>6</td>\n",
              "      <td>[R] Deep Image Analogy</td>\n",
              "      <td>1662</td>\n",
              "      <td>68y8bb</td>\n",
              "      <td>MachineLearning</td>\n",
              "      <td>https://i.redd.it/4n1j4tvhq7vy.jpg</td>\n",
              "      <td>123</td>\n",
              "      <td>NaN</td>\n",
              "      <td>1.493815e+09</td>\n",
              "    </tr>\n",
              "    <tr>\n",
              "      <th>7</th>\n",
              "      <td>7</td>\n",
              "      <td>Quick art by Nvidia GauGAN, this is the mounta...</td>\n",
              "      <td>141</td>\n",
              "      <td>c1ws2b</td>\n",
              "      <td>deeplearning</td>\n",
              "      <td>https://i.redd.it/4kyct8b031531.png</td>\n",
              "      <td>10</td>\n",
              "      <td>NaN</td>\n",
              "      <td>1.560855e+09</td>\n",
              "    </tr>\n",
              "    <tr>\n",
              "      <th>8</th>\n",
              "      <td>8</td>\n",
              "      <td>[D] Why can't you guys comment your fucking code?</td>\n",
              "      <td>1572</td>\n",
              "      <td>6l2esd</td>\n",
              "      <td>MachineLearning</td>\n",
              "      <td>https://www.reddit.com/r/MachineLearning/comme...</td>\n",
              "      <td>489</td>\n",
              "      <td>Seriously.\\n\\nI spent the last few years doing...</td>\n",
              "      <td>1.499142e+09</td>\n",
              "    </tr>\n",
              "    <tr>\n",
              "      <th>9</th>\n",
              "      <td>9</td>\n",
              "      <td>PyTorch or die</td>\n",
              "      <td>139</td>\n",
              "      <td>dj02ev</td>\n",
              "      <td>deeplearning</td>\n",
              "      <td>https://i.redd.it/5hpnpwcfk0t31.jpg</td>\n",
              "      <td>22</td>\n",
              "      <td>NaN</td>\n",
              "      <td>1.571309e+09</td>\n",
              "    </tr>\n",
              "  </tbody>\n",
              "</table>\n",
              "</div>"
            ],
            "text/plain": [
              "   Unnamed: 0  ...       created\n",
              "0           0  ...  1.570953e+09\n",
              "1           1  ...  1.570034e+09\n",
              "2           2  ...  1.507155e+09\n",
              "3           3  ...  1.558675e+09\n",
              "4           4  ...  1.527638e+09\n",
              "5           5  ...  1.572098e+09\n",
              "6           6  ...  1.493815e+09\n",
              "7           7  ...  1.560855e+09\n",
              "8           8  ...  1.499142e+09\n",
              "9           9  ...  1.571309e+09\n",
              "\n",
              "[10 rows x 9 columns]"
            ]
          },
          "metadata": {
            "tags": []
          },
          "execution_count": 35
        }
      ]
    },
    {
      "cell_type": "code",
      "metadata": {
        "id": "slLTeJRJCpvJ",
        "colab_type": "code",
        "colab": {
          "base_uri": "https://localhost:8080/",
          "height": 35
        },
        "outputId": "cc24d1eb-53f5-481c-ae5a-af1a498f1375"
      },
      "source": [
        "df['score'].plot.kde(title='score density',figsize=(10,5))\n"
      ],
      "execution_count": 10,
      "outputs": [
        {
          "output_type": "execute_result",
          "data": {
            "text/plain": [
              "<matplotlib.axes._subplots.AxesSubplot at 0x7fb86cda63c8>"
            ]
          },
          "metadata": {
            "tags": []
          },
          "execution_count": 10
        }
      ]
    },
    {
      "cell_type": "code",
      "metadata": {
        "id": "mt8Ax6KnRd46",
        "colab_type": "code",
        "colab": {}
      },
      "source": [
        "pd.value_counts(df['subreddit']).plot.bar(title='number of posts',figsize=(5,5))\n",
        "plt.show();"
      ],
      "execution_count": 0,
      "outputs": []
    },
    {
      "cell_type": "code",
      "metadata": {
        "id": "doml5ULADLTV",
        "colab_type": "code",
        "colab": {
          "base_uri": "https://localhost:8080/",
          "height": 429
        },
        "outputId": "0fe9080f-4a14-409c-9006-c4a843b9db6f"
      },
      "source": [
        "df.describe(include='all')"
      ],
      "execution_count": 45,
      "outputs": [
        {
          "output_type": "execute_result",
          "data": {
            "text/html": [
              "<div>\n",
              "<style scoped>\n",
              "    .dataframe tbody tr th:only-of-type {\n",
              "        vertical-align: middle;\n",
              "    }\n",
              "\n",
              "    .dataframe tbody tr th {\n",
              "        vertical-align: top;\n",
              "    }\n",
              "\n",
              "    .dataframe thead th {\n",
              "        text-align: right;\n",
              "    }\n",
              "</style>\n",
              "<table border=\"1\" class=\"dataframe\">\n",
              "  <thead>\n",
              "    <tr style=\"text-align: right;\">\n",
              "      <th></th>\n",
              "      <th>title</th>\n",
              "      <th>score</th>\n",
              "      <th>id</th>\n",
              "      <th>subreddit</th>\n",
              "      <th>url</th>\n",
              "      <th>num_comments</th>\n",
              "      <th>body</th>\n",
              "      <th>created</th>\n",
              "    </tr>\n",
              "  </thead>\n",
              "  <tbody>\n",
              "    <tr>\n",
              "      <th>count</th>\n",
              "      <td>100</td>\n",
              "      <td>100.000000</td>\n",
              "      <td>100</td>\n",
              "      <td>100</td>\n",
              "      <td>100</td>\n",
              "      <td>100.000000</td>\n",
              "      <td>31</td>\n",
              "      <td>1.000000e+02</td>\n",
              "    </tr>\n",
              "    <tr>\n",
              "      <th>unique</th>\n",
              "      <td>100</td>\n",
              "      <td>NaN</td>\n",
              "      <td>100</td>\n",
              "      <td>2</td>\n",
              "      <td>100</td>\n",
              "      <td>NaN</td>\n",
              "      <td>31</td>\n",
              "      <td>NaN</td>\n",
              "    </tr>\n",
              "    <tr>\n",
              "      <th>top</th>\n",
              "      <td>[AI application] Let your machine play Super M...</td>\n",
              "      <td>NaN</td>\n",
              "      <td>5y61bg</td>\n",
              "      <td>deeplearning</td>\n",
              "      <td>https://github.com/VKCOM/YouTokenToMe</td>\n",
              "      <td>NaN</td>\n",
              "      <td>I'm not a personal follower of Siraj, but this...</td>\n",
              "      <td>NaN</td>\n",
              "    </tr>\n",
              "    <tr>\n",
              "      <th>freq</th>\n",
              "      <td>1</td>\n",
              "      <td>NaN</td>\n",
              "      <td>1</td>\n",
              "      <td>50</td>\n",
              "      <td>1</td>\n",
              "      <td>NaN</td>\n",
              "      <td>1</td>\n",
              "      <td>NaN</td>\n",
              "    </tr>\n",
              "    <tr>\n",
              "      <th>mean</th>\n",
              "      <td>NaN</td>\n",
              "      <td>581.640000</td>\n",
              "      <td>NaN</td>\n",
              "      <td>NaN</td>\n",
              "      <td>NaN</td>\n",
              "      <td>107.540000</td>\n",
              "      <td>NaN</td>\n",
              "      <td>1.545129e+09</td>\n",
              "    </tr>\n",
              "    <tr>\n",
              "      <th>std</th>\n",
              "      <td>NaN</td>\n",
              "      <td>556.498532</td>\n",
              "      <td>NaN</td>\n",
              "      <td>NaN</td>\n",
              "      <td>NaN</td>\n",
              "      <td>170.928151</td>\n",
              "      <td>NaN</td>\n",
              "      <td>2.692290e+07</td>\n",
              "    </tr>\n",
              "    <tr>\n",
              "      <th>min</th>\n",
              "      <td>NaN</td>\n",
              "      <td>59.000000</td>\n",
              "      <td>NaN</td>\n",
              "      <td>NaN</td>\n",
              "      <td>NaN</td>\n",
              "      <td>0.000000</td>\n",
              "      <td>NaN</td>\n",
              "      <td>1.460805e+09</td>\n",
              "    </tr>\n",
              "    <tr>\n",
              "      <th>25%</th>\n",
              "      <td>NaN</td>\n",
              "      <td>82.000000</td>\n",
              "      <td>NaN</td>\n",
              "      <td>NaN</td>\n",
              "      <td>NaN</td>\n",
              "      <td>7.000000</td>\n",
              "      <td>NaN</td>\n",
              "      <td>1.527342e+09</td>\n",
              "    </tr>\n",
              "    <tr>\n",
              "      <th>50%</th>\n",
              "      <td>NaN</td>\n",
              "      <td>456.500000</td>\n",
              "      <td>NaN</td>\n",
              "      <td>NaN</td>\n",
              "      <td>NaN</td>\n",
              "      <td>33.500000</td>\n",
              "      <td>NaN</td>\n",
              "      <td>1.555581e+09</td>\n",
              "    </tr>\n",
              "    <tr>\n",
              "      <th>75%</th>\n",
              "      <td>NaN</td>\n",
              "      <td>960.250000</td>\n",
              "      <td>NaN</td>\n",
              "      <td>NaN</td>\n",
              "      <td>NaN</td>\n",
              "      <td>138.000000</td>\n",
              "      <td>NaN</td>\n",
              "      <td>1.567415e+09</td>\n",
              "    </tr>\n",
              "    <tr>\n",
              "      <th>max</th>\n",
              "      <td>NaN</td>\n",
              "      <td>2357.000000</td>\n",
              "      <td>NaN</td>\n",
              "      <td>NaN</td>\n",
              "      <td>NaN</td>\n",
              "      <td>1043.000000</td>\n",
              "      <td>NaN</td>\n",
              "      <td>1.575069e+09</td>\n",
              "    </tr>\n",
              "  </tbody>\n",
              "</table>\n",
              "</div>"
            ],
            "text/plain": [
              "                                                    title  ...       created\n",
              "count                                                 100  ...  1.000000e+02\n",
              "unique                                                100  ...           NaN\n",
              "top     [AI application] Let your machine play Super M...  ...           NaN\n",
              "freq                                                    1  ...           NaN\n",
              "mean                                                  NaN  ...  1.545129e+09\n",
              "std                                                   NaN  ...  2.692290e+07\n",
              "min                                                   NaN  ...  1.460805e+09\n",
              "25%                                                   NaN  ...  1.527342e+09\n",
              "50%                                                   NaN  ...  1.555581e+09\n",
              "75%                                                   NaN  ...  1.567415e+09\n",
              "max                                                   NaN  ...  1.575069e+09\n",
              "\n",
              "[11 rows x 8 columns]"
            ]
          },
          "metadata": {
            "tags": []
          },
          "execution_count": 45
        }
      ]
    },
    {
      "cell_type": "code",
      "metadata": {
        "id": "ASbEte2cDixW",
        "colab_type": "code",
        "colab": {
          "base_uri": "https://localhost:8080/",
          "height": 199
        },
        "outputId": "ed14a05f-81ac-4eb7-d56b-cf5966c94e4d"
      },
      "source": [
        "df.dtypes"
      ],
      "execution_count": 14,
      "outputs": [
        {
          "output_type": "execute_result",
          "data": {
            "text/plain": [
              "Unnamed: 0        int64\n",
              "title            object\n",
              "score             int64\n",
              "id               object\n",
              "subreddit        object\n",
              "url              object\n",
              "num_comments      int64\n",
              "body             object\n",
              "created         float64\n",
              "dtype: object"
            ]
          },
          "metadata": {
            "tags": []
          },
          "execution_count": 14
        }
      ]
    },
    {
      "cell_type": "code",
      "metadata": {
        "id": "FmMAOIv9IbVt",
        "colab_type": "code",
        "colab": {}
      },
      "source": [
        "data_bundle = DataBundle.from_dataframe(dataframe=df, x_col=\"title\", y_col=\"subreddit\")"
      ],
      "execution_count": 0,
      "outputs": []
    },
    {
      "cell_type": "code",
      "metadata": {
        "id": "7FDnJ7atIpcN",
        "colab_type": "code",
        "colab": {}
      },
      "source": [
        "train_bundle, val_bundle, test_bundle = DataBundle.split(\n",
        "    data_bundle=data_bundle, fracs=[0.6, 0.2, 0.2], random=False\n",
        ")"
      ],
      "execution_count": 0,
      "outputs": []
    },
    {
      "cell_type": "code",
      "metadata": {
        "id": "j0QuVyATIuMz",
        "colab_type": "code",
        "colab": {
          "base_uri": "https://localhost:8080/",
          "height": 35
        },
        "outputId": "038e17ae-9f24-4267-ebdf-7966b3fab99d"
      },
      "source": [
        "len(train_bundle), len(val_bundle), len(test_bundle)"
      ],
      "execution_count": 38,
      "outputs": [
        {
          "output_type": "execute_result",
          "data": {
            "text/plain": [
              "(60, 20, 20)"
            ]
          },
          "metadata": {
            "tags": []
          },
          "execution_count": 38
        }
      ]
    },
    {
      "cell_type": "code",
      "metadata": {
        "id": "q8ox8vqJ4IJl",
        "colab_type": "code",
        "colab": {}
      },
      "source": [
        "def make_category_map(labels):\n",
        "    return {x: i for i, x in enumerate(sorted(set(labels)))}"
      ],
      "execution_count": 0,
      "outputs": []
    },
    {
      "cell_type": "code",
      "metadata": {
        "id": "Z8cwTTH44Ukf",
        "colab_type": "code",
        "colab": {}
      },
      "source": [
        "def init_label_map(filename, data_bundle):\n",
        "    try:\n",
        "        label_map = load_file(filename)\n",
        "    except:\n",
        "        label_map = data_bundle.make_label_map()\n",
        "        save_file(label_map, filename)\n",
        "    return label_map\n",
        "\n"
      ],
      "execution_count": 0,
      "outputs": []
    },
    {
      "cell_type": "code",
      "metadata": {
        "id": "pfDQdVZt4XNk",
        "colab_type": "code",
        "colab": {}
      },
      "source": [
        "label_map = init_label_map(TEMP_DIR / \"label_map.pickle\",df[\"subreddit\"])"
      ],
      "execution_count": 0,
      "outputs": []
    },
    {
      "cell_type": "code",
      "metadata": {
        "id": "7Ge1QP6-4g1R",
        "colab_type": "code",
        "colab": {
          "base_uri": "https://localhost:8080/",
          "height": 35
        },
        "outputId": "86bd4186-f66b-41f1-df78-dc93aeddb1bf"
      },
      "source": [
        "label_map"
      ],
      "execution_count": 48,
      "outputs": [
        {
          "output_type": "execute_result",
          "data": {
            "text/plain": [
              "{'MachineLearning': 0, 'deeplearning': 1}"
            ]
          },
          "metadata": {
            "tags": []
          },
          "execution_count": 48
        }
      ]
    },
    {
      "cell_type": "code",
      "metadata": {
        "id": "1fdlG56wqN6B",
        "colab_type": "code",
        "colab": {
          "base_uri": "https://localhost:8080/",
          "height": 126
        },
        "outputId": "551f3925-5f86-4c6d-a2d5-a93b9be2772a"
      },
      "source": [
        "df[\"subreddit\"].head()"
      ],
      "execution_count": 49,
      "outputs": [
        {
          "output_type": "execute_result",
          "data": {
            "text/plain": [
              "0    MachineLearning\n",
              "1       deeplearning\n",
              "2    MachineLearning\n",
              "3       deeplearning\n",
              "4    MachineLearning\n",
              "Name: subreddit, dtype: object"
            ]
          },
          "metadata": {
            "tags": []
          },
          "execution_count": 49
        }
      ]
    },
    {
      "cell_type": "code",
      "metadata": {
        "id": "HZdFp2-aJBgB",
        "colab_type": "code",
        "colab": {}
      },
      "source": [
        "train_bundle.apply_label_map(label_map)"
      ],
      "execution_count": 0,
      "outputs": []
    },
    {
      "cell_type": "code",
      "metadata": {
        "id": "jyB6ASalJBsa",
        "colab_type": "code",
        "colab": {}
      },
      "source": [
        "val_bundle.apply_label_map(label_map)"
      ],
      "execution_count": 0,
      "outputs": []
    },
    {
      "cell_type": "code",
      "metadata": {
        "id": "ma82UWzIJBvw",
        "colab_type": "code",
        "colab": {}
      },
      "source": [
        "test_bundle.apply_label_map(label_map)"
      ],
      "execution_count": 0,
      "outputs": []
    },
    {
      "cell_type": "code",
      "metadata": {
        "id": "B6JllZRlJMqU",
        "colab_type": "code",
        "colab": {}
      },
      "source": [
        "#train_bundle = DataBundle.from_unbalanced(\n",
        "#    train_bundle, 100, train_bundle.value_counts()\n",
        "#)"
      ],
      "execution_count": 0,
      "outputs": []
    },
    {
      "cell_type": "code",
      "metadata": {
        "id": "BoCoLf4NJQ49",
        "colab_type": "code",
        "colab": {
          "base_uri": "https://localhost:8080/",
          "height": 35
        },
        "outputId": "047075c5-bff7-4199-8e6c-a247fff4ad17"
      },
      "source": [
        "train_bundle.value_counts()"
      ],
      "execution_count": 53,
      "outputs": [
        {
          "output_type": "execute_result",
          "data": {
            "text/plain": [
              "{0: 30, 1: 30}"
            ]
          },
          "metadata": {
            "tags": []
          },
          "execution_count": 53
        }
      ]
    },
    {
      "cell_type": "code",
      "metadata": {
        "id": "oyIBuBYEh0l3",
        "colab_type": "code",
        "colab": {
          "base_uri": "https://localhost:8080/",
          "height": 35
        },
        "outputId": "15e00ab1-d85f-4d7e-ed00-a83fee3b5caf"
      },
      "source": [
        "n_categories = len(label_map)\n",
        "n_categories"
      ],
      "execution_count": 54,
      "outputs": [
        {
          "output_type": "execute_result",
          "data": {
            "text/plain": [
              "2"
            ]
          },
          "metadata": {
            "tags": []
          },
          "execution_count": 54
        }
      ]
    },
    {
      "cell_type": "code",
      "metadata": {
        "id": "aQ4I5YnCJXHK",
        "colab_type": "code",
        "colab": {}
      },
      "source": [
        "tokenizer = transformers.BertTokenizer.from_pretrained(\"bert-base-cased\")"
      ],
      "execution_count": 0,
      "outputs": []
    },
    {
      "cell_type": "code",
      "metadata": {
        "id": "xsKEk0ktJafI",
        "colab_type": "code",
        "colab": {}
      },
      "source": [
        "def tokenize_and_pad(arr, tokenizer, sequence_length):\n",
        "    return np.array(\n",
        "        [\n",
        "            np.pad(\n",
        "                tokenizer.encode(x, add_special_tokens=True),\n",
        "                (0, sequence_length),\n",
        "                \"constant\",\n",
        "                constant_values=tokenizer.pad_token_id,\n",
        "            )[:sequence_length]\n",
        "            for x in arr\n",
        "        ]\n",
        "    )\n",
        "\n"
      ],
      "execution_count": 0,
      "outputs": []
    },
    {
      "cell_type": "code",
      "metadata": {
        "id": "XQtZzGxIJasi",
        "colab_type": "code",
        "colab": {}
      },
      "source": [
        "train_bundle.x = tokenize_and_pad(train_bundle.x, tokenizer, 64)\n",
        "val_bundle.x = tokenize_and_pad(val_bundle.x, tokenizer, 64)\n",
        "test_bundle.x = tokenize_and_pad(test_bundle.x, tokenizer, 64)\n",
        "\n"
      ],
      "execution_count": 0,
      "outputs": []
    },
    {
      "cell_type": "code",
      "metadata": {
        "id": "mpjfi3UXJavQ",
        "colab_type": "code",
        "colab": {}
      },
      "source": [
        "def make_bert_dataset(data_bundle, tokenizer):\n",
        "    features = tf.data.Dataset.from_tensor_slices(data_bundle.x)\n",
        "    labels = tf.data.Dataset.from_tensor_slices(data_bundle.y)\n",
        "    dataset = tf.data.Dataset.zip((features, labels)).map(\n",
        "        lambda x, y: (\n",
        "            {\n",
        "                \"input_ids\": x,\n",
        "                \"attention_mask\": int(x != tokenizer.pad_token_id),\n",
        "                \"token_type_ids\": tf.zeros_like(x),\n",
        "            },\n",
        "            y,\n",
        "        )\n",
        "    )\n",
        "    return dataset"
      ],
      "execution_count": 0,
      "outputs": []
    },
    {
      "cell_type": "code",
      "metadata": {
        "id": "iDhf_zqdJaxq",
        "colab_type": "code",
        "colab": {}
      },
      "source": [
        "base_bert_dataset = make_bert_dataset(train_bundle, tokenizer)"
      ],
      "execution_count": 0,
      "outputs": []
    },
    {
      "cell_type": "code",
      "metadata": {
        "id": "P6ALfhfYJa0T",
        "colab_type": "code",
        "colab": {}
      },
      "source": [
        "train_bert_dataset = (\n",
        "    base_bert_dataset.cache()\n",
        "    .repeat()\n",
        "    .shuffle(len(train_bundle))\n",
        "    .batch(BATCH_SIZE)\n",
        "    .prefetch(AUTOTUNE)\n",
        ")\n",
        "\n"
      ],
      "execution_count": 0,
      "outputs": []
    },
    {
      "cell_type": "code",
      "metadata": {
        "id": "WSkHsIkaJa4n",
        "colab_type": "code",
        "colab": {}
      },
      "source": [
        "validation_bert_dataset = (\n",
        "    make_bert_dataset(val_bundle, tokenizer).batch(BATCH_SIZE).prefetch(AUTOTUNE)\n",
        ")"
      ],
      "execution_count": 0,
      "outputs": []
    },
    {
      "cell_type": "code",
      "metadata": {
        "id": "cmy7I50rJa7I",
        "colab_type": "code",
        "colab": {}
      },
      "source": [
        "test_bert_dataset = (\n",
        "    make_bert_dataset(test_bundle, tokenizer).batch(BATCH_SIZE).prefetch(AUTOTUNE)\n",
        ")"
      ],
      "execution_count": 0,
      "outputs": []
    },
    {
      "cell_type": "code",
      "metadata": {
        "id": "mGUh2NXwJa2-",
        "colab_type": "code",
        "colab": {}
      },
      "source": [
        "data_container = DataContainer(\n",
        "    base=base_bert_dataset,\n",
        "    train=train_bert_dataset,\n",
        "    train_steps=len(train_bundle) // BATCH_SIZE,\n",
        "    validation=validation_bert_dataset,\n",
        "    test=test_bert_dataset,\n",
        "    label_map=label_map,\n",
        ")"
      ],
      "execution_count": 0,
      "outputs": []
    },
    {
      "cell_type": "code",
      "metadata": {
        "id": "cfZId2Via7OY",
        "colab_type": "code",
        "colab": {}
      },
      "source": [
        "#data_container_2 = DataContainer(\n",
        "#   train_data_bundle, validation_data_bundle, test_data_bundle\n",
        "#)\n",
        "\n"
      ],
      "execution_count": 0,
      "outputs": []
    },
    {
      "cell_type": "code",
      "metadata": {
        "id": "jqHwSBANJ4M-",
        "colab_type": "code",
        "colab": {
          "base_uri": "https://localhost:8080/",
          "height": 35
        },
        "outputId": "c0c8a9d4-3ef6-44d1-8269-8a87d26ef13e"
      },
      "source": [
        "data_container.n_classes"
      ],
      "execution_count": 53,
      "outputs": [
        {
          "output_type": "execute_result",
          "data": {
            "text/plain": [
              "2"
            ]
          },
          "metadata": {
            "tags": []
          },
          "execution_count": 53
        }
      ]
    },
    {
      "cell_type": "code",
      "metadata": {
        "id": "chZBS3q3J78b",
        "colab_type": "code",
        "colab": {}
      },
      "source": [
        "def train_model(\n",
        "    model,\n",
        "    data_container,\n",
        "    epochs,\n",
        "    lrs=None,\n",
        "    optimizers=None,\n",
        "    patience=5,\n",
        "    verbose=1,\n",
        "    class_weights=None,\n",
        "    log_dir=str(TEMP_DIR / \"logs\"),\n",
        "):\n",
        "    model.layers[0].trainable = False\n",
        "    if optimizers is None:\n",
        "        optimizers = [keras.optimizers.Adam(lr) for lr in lrs]\n",
        "    model.compile(\n",
        "        loss=keras.losses.SparseCategoricalCrossentropy(from_logits=True),\n",
        "        optimizer=optimizers[0],\n",
        "        metrics=[\n",
        "            keras.metrics.sparse_categorical_accuracy,\n",
        "            sparse_top_2_categorical_accuracy,\n",
        "        ],\n",
        "    )\n",
        "    model.fit(\n",
        "        data_container.train,\n",
        "        steps_per_epoch=data_container.train_steps,\n",
        "        validation_data=data_container.validation,\n",
        "        epochs=epochs[0],\n",
        "        callbacks=[\n",
        "            keras.callbacks.ReduceLROnPlateau(patience=1, factor=0.3),\n",
        "            keras.callbacks.EarlyStopping(patience=2, restore_best_weights=True),\n",
        "        ],\n",
        "        class_weight=class_weights,\n",
        "        verbose=verbose,\n",
        "    )\n",
        "    model.layers[0].trainable = True\n",
        "    model.compile(\n",
        "        loss=keras.losses.SparseCategoricalCrossentropy(from_logits=True),\n",
        "        optimizer=optimizers[1],\n",
        "        metrics=[\n",
        "            keras.metrics.sparse_categorical_accuracy,\n",
        "            sparse_top_2_categorical_accuracy,\n",
        "        ],\n",
        "    )\n",
        "    model.fit(\n",
        "        data_container.train,\n",
        "        steps_per_epoch=data_container.train_steps,\n",
        "        validation_data=data_container.validation,\n",
        "        epochs=epochs[1],\n",
        "        callbacks=[\n",
        "            keras.callbacks.ReduceLROnPlateau(patience=patience // 2, factor=0.3),\n",
        "            keras.callbacks.EarlyStopping(patience=patience, restore_best_weights=True),\n",
        "            keras.callbacks.TensorBoard(log_dir=log_dir),\n",
        "        ],\n",
        "        class_weight=class_weights,\n",
        "        verbose=verbose,\n",
        "    )"
      ],
      "execution_count": 0,
      "outputs": []
    },
    {
      "cell_type": "code",
      "metadata": {
        "id": "I_uFSfc3KAZ4",
        "colab_type": "code",
        "colab": {}
      },
      "source": [
        "config = transformers.BertConfig.from_pretrained(\n",
        "    \"bert-base-cased\", num_labels=data_container.n_classes\n",
        ")"
      ],
      "execution_count": 0,
      "outputs": []
    },
    {
      "cell_type": "code",
      "metadata": {
        "id": "NlfcaIhkKDt6",
        "colab_type": "code",
        "colab": {}
      },
      "source": [
        "class TFBertForSequenceClassification(transformers.TFBertPreTrainedModel):\n",
        "    def __init__(self, config, *inputs, **kwargs):\n",
        "        super(TFBertForSequenceClassification, self).__init__(config, *inputs, **kwargs)\n",
        "        self.num_labels = config.num_labels\n",
        "\n",
        "        self.bert = transformers.TFBertMainLayer(config, name=\"bert\")\n",
        "        self.dropout1 = tf.keras.layers.Dropout(config.hidden_dropout_prob)\n",
        "        self.hidden1 = tf.keras.layers.Dense(1024, activation=tf.keras.activations.relu)\n",
        "        self.dropout2 = tf.keras.layers.Dropout(config.hidden_dropout_prob)\n",
        "        self.classifier = tf.keras.layers.Dense(\n",
        "            config.num_labels,\n",
        "            kernel_initializer=transformers.modeling_tf_utils.get_initializer(\n",
        "                config.initializer_range\n",
        "            ),\n",
        "            name=\"classifier\",\n",
        "        )\n",
        "\n",
        "    def call(self, inputs, **kwargs):\n",
        "        outputs = self.bert(inputs, **kwargs)\n",
        "\n",
        "        pooled_output = outputs[1]\n",
        "\n",
        "        pooled_output = self.dropout1(\n",
        "            pooled_output, training=kwargs.get(\"training\", False)\n",
        "        )\n",
        "        hidden = self.dropout2(\n",
        "            self.hidden1(pooled_output), training=kwargs.get(\"training\", False)\n",
        "        )\n",
        "        logits = self.classifier(hidden)\n",
        "\n",
        "        outputs = (logits,)\n",
        "\n",
        "        return outputs"
      ],
      "execution_count": 0,
      "outputs": []
    },
    {
      "cell_type": "code",
      "metadata": {
        "id": "lTEHF3rEKGj7",
        "colab_type": "code",
        "colab": {}
      },
      "source": [
        "model = TFBertForSequenceClassification.from_pretrained(\n",
        "    \"bert-base-cased\", config=config\n",
        ")"
      ],
      "execution_count": 0,
      "outputs": []
    },
    {
      "cell_type": "code",
      "metadata": {
        "id": "sDFl3ogmKpKn",
        "colab_type": "code",
        "colab": {
          "base_uri": "https://localhost:8080/",
          "height": 344
        },
        "outputId": "89aa2498-c440-4aaa-f369-015622dd2b3d"
      },
      "source": [
        "model.summary()"
      ],
      "execution_count": 55,
      "outputs": [
        {
          "output_type": "stream",
          "text": [
            "Model: \"tf_bert_for_sequence_classification\"\n",
            "_________________________________________________________________\n",
            "Layer (type)                 Output Shape              Param #   \n",
            "=================================================================\n",
            "bert (TFBertMainLayer)       multiple                  108310272 \n",
            "_________________________________________________________________\n",
            "dropout_37 (Dropout)         multiple                  0         \n",
            "_________________________________________________________________\n",
            "dense (Dense)                multiple                  787456    \n",
            "_________________________________________________________________\n",
            "dropout_38 (Dropout)         multiple                  0         \n",
            "_________________________________________________________________\n",
            "classifier (Dense)           multiple                  2050      \n",
            "=================================================================\n",
            "Total params: 109,099,778\n",
            "Trainable params: 109,099,778\n",
            "Non-trainable params: 0\n",
            "_________________________________________________________________\n"
          ],
          "name": "stdout"
        }
      ]
    },
    {
      "cell_type": "code",
      "metadata": {
        "id": "Q-wG0ZbjKtzp",
        "colab_type": "code",
        "colab": {
          "base_uri": "https://localhost:8080/",
          "height": 800
        },
        "outputId": "6457a60d-c28c-43fc-8638-eb0b4a794aca"
      },
      "source": [
        "train_model(\n",
        "    model,\n",
        "    data_container,\n",
        "    [0, 20],\n",
        "    [3e-6, 1e-6],\n",
        "    class_weights=None,\n",
        "    patience=2,\n",
        ")"
      ],
      "execution_count": 57,
      "outputs": [
        {
          "output_type": "stream",
          "text": [
            "Train for 3 steps, validate for 2 steps\n",
            "Train for 3 steps, validate for 2 steps\n",
            "Epoch 1/20\n",
            "3/3 [==============================] - 58s 19s/step - loss: 0.7027 - sparse_categorical_accuracy: 0.5208 - sparse_top_2_categorical_accuracy: 1.0000 - val_loss: 0.6935 - val_sparse_categorical_accuracy: 0.5000 - val_sparse_top_2_categorical_accuracy: 1.0000\n",
            "Epoch 2/20\n",
            "3/3 [==============================] - 38s 13s/step - loss: 0.6860 - sparse_categorical_accuracy: 0.5417 - sparse_top_2_categorical_accuracy: 1.0000 - val_loss: 0.6930 - val_sparse_categorical_accuracy: 0.5000 - val_sparse_top_2_categorical_accuracy: 1.0000\n",
            "Epoch 3/20\n",
            "3/3 [==============================] - 38s 13s/step - loss: 0.6821 - sparse_categorical_accuracy: 0.5625 - sparse_top_2_categorical_accuracy: 1.0000 - val_loss: 0.6924 - val_sparse_categorical_accuracy: 0.5000 - val_sparse_top_2_categorical_accuracy: 1.0000\n",
            "Epoch 4/20\n",
            "3/3 [==============================] - 38s 13s/step - loss: 0.6980 - sparse_categorical_accuracy: 0.4792 - sparse_top_2_categorical_accuracy: 1.0000 - val_loss: 0.6917 - val_sparse_categorical_accuracy: 0.5000 - val_sparse_top_2_categorical_accuracy: 1.0000\n",
            "Epoch 5/20\n",
            "3/3 [==============================] - 38s 13s/step - loss: 0.6747 - sparse_categorical_accuracy: 0.5833 - sparse_top_2_categorical_accuracy: 1.0000 - val_loss: 0.6913 - val_sparse_categorical_accuracy: 0.5000 - val_sparse_top_2_categorical_accuracy: 1.0000\n",
            "Epoch 6/20\n",
            "3/3 [==============================] - 37s 12s/step - loss: 0.6892 - sparse_categorical_accuracy: 0.5000 - sparse_top_2_categorical_accuracy: 1.0000 - val_loss: 0.6903 - val_sparse_categorical_accuracy: 0.5000 - val_sparse_top_2_categorical_accuracy: 1.0000\n",
            "Epoch 7/20\n",
            "3/3 [==============================] - 37s 12s/step - loss: 0.7100 - sparse_categorical_accuracy: 0.5000 - sparse_top_2_categorical_accuracy: 1.0000 - val_loss: 0.6897 - val_sparse_categorical_accuracy: 0.5000 - val_sparse_top_2_categorical_accuracy: 1.0000\n",
            "Epoch 8/20\n",
            "3/3 [==============================] - 37s 12s/step - loss: 0.6933 - sparse_categorical_accuracy: 0.5417 - sparse_top_2_categorical_accuracy: 1.0000 - val_loss: 0.6895 - val_sparse_categorical_accuracy: 0.5000 - val_sparse_top_2_categorical_accuracy: 1.0000\n",
            "Epoch 9/20\n",
            "3/3 [==============================] - 37s 12s/step - loss: 0.6829 - sparse_categorical_accuracy: 0.5833 - sparse_top_2_categorical_accuracy: 1.0000 - val_loss: 0.6890 - val_sparse_categorical_accuracy: 0.5000 - val_sparse_top_2_categorical_accuracy: 1.0000\n",
            "Epoch 10/20\n",
            "3/3 [==============================] - 37s 12s/step - loss: 0.6903 - sparse_categorical_accuracy: 0.5417 - sparse_top_2_categorical_accuracy: 1.0000 - val_loss: 0.6883 - val_sparse_categorical_accuracy: 0.5000 - val_sparse_top_2_categorical_accuracy: 1.0000\n",
            "Epoch 11/20\n",
            "3/3 [==============================] - 37s 12s/step - loss: 0.6973 - sparse_categorical_accuracy: 0.5417 - sparse_top_2_categorical_accuracy: 1.0000 - val_loss: 0.6876 - val_sparse_categorical_accuracy: 0.5000 - val_sparse_top_2_categorical_accuracy: 1.0000\n",
            "Epoch 12/20\n",
            "3/3 [==============================] - 37s 12s/step - loss: 0.6927 - sparse_categorical_accuracy: 0.5417 - sparse_top_2_categorical_accuracy: 1.0000 - val_loss: 0.6868 - val_sparse_categorical_accuracy: 0.5500 - val_sparse_top_2_categorical_accuracy: 1.0000\n",
            "Epoch 13/20\n",
            "3/3 [==============================] - 36s 12s/step - loss: 0.6926 - sparse_categorical_accuracy: 0.5417 - sparse_top_2_categorical_accuracy: 1.0000 - val_loss: 0.6859 - val_sparse_categorical_accuracy: 0.5500 - val_sparse_top_2_categorical_accuracy: 1.0000\n",
            "Epoch 14/20\n",
            "3/3 [==============================] - 36s 12s/step - loss: 0.6740 - sparse_categorical_accuracy: 0.6042 - sparse_top_2_categorical_accuracy: 1.0000 - val_loss: 0.6847 - val_sparse_categorical_accuracy: 0.5500 - val_sparse_top_2_categorical_accuracy: 1.0000\n",
            "Epoch 15/20\n",
            "3/3 [==============================] - 36s 12s/step - loss: 0.7050 - sparse_categorical_accuracy: 0.4792 - sparse_top_2_categorical_accuracy: 1.0000 - val_loss: 0.6836 - val_sparse_categorical_accuracy: 0.6000 - val_sparse_top_2_categorical_accuracy: 1.0000\n",
            "Epoch 16/20\n",
            "3/3 [==============================] - 36s 12s/step - loss: 0.6729 - sparse_categorical_accuracy: 0.6250 - sparse_top_2_categorical_accuracy: 1.0000 - val_loss: 0.6825 - val_sparse_categorical_accuracy: 0.7000 - val_sparse_top_2_categorical_accuracy: 1.0000\n",
            "Epoch 17/20\n",
            "3/3 [==============================] - 36s 12s/step - loss: 0.6969 - sparse_categorical_accuracy: 0.5208 - sparse_top_2_categorical_accuracy: 1.0000 - val_loss: 0.6812 - val_sparse_categorical_accuracy: 0.6500 - val_sparse_top_2_categorical_accuracy: 1.0000\n",
            "Epoch 18/20\n",
            "3/3 [==============================] - 36s 12s/step - loss: 0.6702 - sparse_categorical_accuracy: 0.6250 - sparse_top_2_categorical_accuracy: 1.0000 - val_loss: 0.6794 - val_sparse_categorical_accuracy: 0.7000 - val_sparse_top_2_categorical_accuracy: 1.0000\n",
            "Epoch 19/20\n",
            "3/3 [==============================] - 36s 12s/step - loss: 0.6622 - sparse_categorical_accuracy: 0.6042 - sparse_top_2_categorical_accuracy: 1.0000 - val_loss: 0.6774 - val_sparse_categorical_accuracy: 0.7000 - val_sparse_top_2_categorical_accuracy: 1.0000\n",
            "Epoch 20/20\n",
            "3/3 [==============================] - 36s 12s/step - loss: 0.6706 - sparse_categorical_accuracy: 0.6458 - sparse_top_2_categorical_accuracy: 1.0000 - val_loss: 0.6752 - val_sparse_categorical_accuracy: 0.7500 - val_sparse_top_2_categorical_accuracy: 1.0000\n"
          ],
          "name": "stdout"
        }
      ]
    },
    {
      "cell_type": "code",
      "metadata": {
        "id": "-LmXuq996rSR",
        "colab_type": "code",
        "colab": {}
      },
      "source": [
        "df[\"subreddit\"].head()"
      ],
      "execution_count": 0,
      "outputs": []
    },
    {
      "cell_type": "code",
      "metadata": {
        "id": "wOPlwXBw6rkF",
        "colab_type": "code",
        "colab": {
          "base_uri": "https://localhost:8080/",
          "height": 181
        },
        "outputId": "5ade9fd0-2b14-46b1-a01c-7e4ee49441c6"
      },
      "source": [
        "print(\n",
        "    classification_report(\n",
        "        [label.numpy() for _, label in data_container.validation.unbatch()],\n",
        "        model.predict(data_container.validation).argmax(axis=1),\n",
        "    )\n",
        ")"
      ],
      "execution_count": 58,
      "outputs": [
        {
          "output_type": "stream",
          "text": [
            "              precision    recall  f1-score   support\n",
            "\n",
            "           0       0.69      0.90      0.78        10\n",
            "           1       0.86      0.60      0.71        10\n",
            "\n",
            "    accuracy                           0.75        20\n",
            "   macro avg       0.77      0.75      0.74        20\n",
            "weighted avg       0.77      0.75      0.74        20\n",
            "\n"
          ],
          "name": "stdout"
        }
      ]
    },
    {
      "cell_type": "code",
      "metadata": {
        "id": "IKui9JBiptTM",
        "colab_type": "code",
        "colab": {}
      },
      "source": [
        "DataContainer??\n"
      ],
      "execution_count": 0,
      "outputs": []
    },
    {
      "cell_type": "code",
      "metadata": {
        "id": "IOCi9Cm73iAK",
        "colab_type": "code",
        "colab": {}
      },
      "source": [
        "def make_hub_model(url):\n",
        "    return keras.Sequential(\n",
        "        [\n",
        "            hub.KerasLayer(url, dtype=tf.string, input_shape=[]),\n",
        "            keras.layers.Dropout(0.5),\n",
        "            keras.layers.Dense(2, activation=keras.activations.softmax),\n",
        "        ]\n",
        "    )\n",
        "\n"
      ],
      "execution_count": 0,
      "outputs": []
    },
    {
      "cell_type": "code",
      "metadata": {
        "id": "_xprlZhmRlXA",
        "colab_type": "code",
        "colab": {}
      },
      "source": [
        "def run_models(urls):\n",
        "    for url in urls:\n",
        "        model = make_hub_model(url)\n",
        "        model_name = f\"{url.split('/')[4]}\"\n",
        "        print(f\" {model_name} \".center(80, \"=\"))\n",
        "        shutil.rmtree(str(TEMP_DIR / model_name), ignore_errors=True)\n",
        "        train_model_1(\n",
        "            model=model,\n",
        "            epochs=[2, 3],\n",
        "            optimizers=[keras.optimizers.Adam(lr=1e-4), keras.optimizers.Adam(lr=3e-5)],\n",
        "            patience=2,\n",
        "            verbose=2,\n",
        "            log_dir=str(TEMP_DIR / model_name),\n",
        "        )\n",
        "        model.save(f\"{TEMP_DIR / model_name}.h5\")\n",
        "        save_keras_model(\n",
        "            model,\n",
        "            str(TEMP_DIR / model_name / \"architecture\"),\n",
        "            str(TEMP_DIR / model_name / \"weights\"),\n",
        "        )\n",
        "        \n",
        "\n"
      ],
      "execution_count": 0,
      "outputs": []
    },
    {
      "cell_type": "code",
      "metadata": {
        "id": "XXGoVU-_RqWG",
        "colab_type": "code",
        "colab": {}
      },
      "source": [
        "model_urls = (\n",
        "    \"https://tfhub.dev/google/Wiki-words-250-with-normalization/2\",\n",
        "    \"https://tfhub.dev/google/nnlm-en-dim128-with-normalization/2\",\n",
        ")"
      ],
      "execution_count": 0,
      "outputs": []
    },
    {
      "cell_type": "code",
      "metadata": {
        "id": "LHvIPjMqRt0k",
        "colab_type": "code",
        "colab": {}
      },
      "source": [
        "run_models(model_urls)"
      ],
      "execution_count": 0,
      "outputs": []
    },
    {
      "cell_type": "code",
      "metadata": {
        "id": "O4osd-woU5hG",
        "colab_type": "code",
        "colab": {
          "base_uri": "https://localhost:8080/",
          "height": 35
        },
        "outputId": "38c5a8e5-1c6b-4608-b9ff-118134065da4"
      },
      "source": [
        "len(train_bundle) // BATCH_SIZE"
      ],
      "execution_count": 94,
      "outputs": [
        {
          "output_type": "execute_result",
          "data": {
            "text/plain": [
              "3"
            ]
          },
          "metadata": {
            "tags": []
          },
          "execution_count": 94
        }
      ]
    },
    {
      "cell_type": "code",
      "metadata": {
        "id": "F2k0rDz5VJMV",
        "colab_type": "code",
        "colab": {
          "base_uri": "https://localhost:8080/",
          "height": 171
        },
        "outputId": "8e47804f-0707-4a68-fcfe-c19d2f0d0a8f"
      },
      "source": [
        "data_container.train_steps"
      ],
      "execution_count": 73,
      "outputs": [
        {
          "output_type": "error",
          "ename": "NameError",
          "evalue": "ignored",
          "traceback": [
            "\u001b[0;31m---------------------------------------------------------------------------\u001b[0m",
            "\u001b[0;31mNameError\u001b[0m                                 Traceback (most recent call last)",
            "\u001b[0;32m<ipython-input-73-4e30db64f225>\u001b[0m in \u001b[0;36m<module>\u001b[0;34m()\u001b[0m\n\u001b[0;32m----> 1\u001b[0;31m \u001b[0mdata_container\u001b[0m\u001b[0;34m.\u001b[0m\u001b[0mtrain_steps\u001b[0m\u001b[0;34m\u001b[0m\u001b[0;34m\u001b[0m\u001b[0m\n\u001b[0m",
            "\u001b[0;31mNameError\u001b[0m: name 'data_container' is not defined"
          ]
        }
      ]
    },
    {
      "cell_type": "code",
      "metadata": {
        "id": "U924pDeh4Not",
        "colab_type": "code",
        "colab": {}
      },
      "source": [
        ""
      ],
      "execution_count": 0,
      "outputs": []
    }
  ]
}